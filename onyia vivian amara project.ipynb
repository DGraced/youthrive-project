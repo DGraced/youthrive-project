{
 "cells": [
  {
   "cell_type": "markdown",
   "id": "6c281209",
   "metadata": {},
   "source": [
    "# YOUTHRIVE DATA SCIENCE CAPSTONE PROJECT\n",
    "## INCOME LEVEL PREDICTION\n",
    "\n",
    "**Duration**: June 1st – June 20th  \n",
    "**Submitted by**: Onyia Vivian Amara  \n",
    "**Goal**: Predict whether a person earns >$50K/year using US census data.\n",
    "\n",
    "---\n"
   ]
  },
  {
   "cell_type": "markdown",
   "id": "f2e2976f",
   "metadata": {},
   "source": [
    "## Project Summary: Income Level Prediction\n",
    "\n",
    "The goal of this project is to build a machine learning model that can predict if a person earns more than **$50,000 per year** based on their information from a census dataset.\n",
    "\n",
    "The dataset contains details like **age**, **education**, **job type**, **marital status**, **hours worked per week**, and more.\n",
    "\n",
    "###  What This Project Tried to Achieve:\n",
    "- Understand the data and clean it properly.\n",
    "- Turn the data into a form that a machine learning model can learn from.\n",
    "- Train different models to see which one predicts income the best.\n",
    "- Compare the models using performance scores.\n",
    "- Choose the best model and save it for future use.\n",
    "\n",
    "### Steps Taken:\n",
    "1. **Data Cleaning** – Fixed missing values, changed categories into numbers, and scaled numerical values.\n",
    "2. **Data Analysis** – Found patterns in the data and created charts to understand it better.\n",
    "3. **Model Training** – Used different models: Logistic Regression, Random Forest, K-Nearest Neighbors (KNN), and Support Vector Machine (SVM).\n",
    "4. **Model Comparison** – Compared the models using accuracy, F1-score, and ROC-AUC score.\n",
    "5. **Final Model** – **Logistic Regression** was chosen as the best model based on overall performance and was saved using `joblib`.\n",
    "\n",
    "### Final Result:\n",
    "- The Logistic Regression model gave the **best result** with an ROC-AUC score of **0.898**.\n",
    "- Some important factors that affect income include **education**, **type of job**, and **hours worked**.\n",
    "- This project shows how machine learning can help in making decisions based on data.\n",
    "\n"
   ]
  },
  {
   "cell_type": "code",
   "execution_count": null,
   "id": "4fe639e1",
   "metadata": {},
   "outputs": [
    {
     "ename": "",
     "evalue": "",
     "output_type": "error",
     "traceback": [
      "\u001b[1;31mFailed to start the Kernel. \n",
      "\u001b[1;31mUnable to start Kernel 'Python 3.11.9' due to a timeout waiting for the ports to get used. \n",
      "\u001b[1;31mView Jupyter <a href='command:jupyter.viewOutput'>log</a> for further details."
     ]
    }
   ],
   "source": [
    "# Importing all needed Libraries\n",
    "\n",
    "\n",
    "# For Data handling\n",
    "import pandas as pd\n",
    "import numpy as np\n",
    "\n",
    "# For Visualization\n",
    "import matplotlib.pyplot as plt\n",
    "import seaborn as sns\n",
    "%matplotlib inline\n",
    "\n",
    "# For Warnings(to suppress warning messages in this model development.)\n",
    "import warnings\n",
    "warnings.filterwarnings('ignore')\n",
    "\n",
    "\n",
    "from sklearn.model_selection import train_test_split, RandomizedSearchCV\n",
    "from sklearn.preprocessing import StandardScaler\n",
    "from sklearn.linear_model import LogisticRegression\n",
    "from sklearn.ensemble import RandomForestClassifier\n",
    "from sklearn.neighbors import KNeighborsClassifier\n",
    "from sklearn.svm import SVC\n",
    "from sklearn.metrics import accuracy_score, precision_score, recall_score, f1_score, roc_auc_score, classification_report, confusion_matrix, roc_curve\n",
    "\n",
    "\n",
    "import joblib\n",
    "\n",
    "import sys\n",
    "print(sys.executable)"
   ]
  },
  {
   "cell_type": "markdown",
   "id": "1569a963",
   "metadata": {},
   "source": [
    "## 1. Data Collection and Preparation\n",
    "\n",
    "- Load the dataset.\n",
    "- Inspect the first few rows.\n",
    "- Check data types and summary statistics.\n",
    "- Convert variables to appropriate datatypes.\n",
    "- Drop irrelevant features.\n",
    "- Check and handle missing values."
   ]
  },
  {
   "cell_type": "markdown",
   "id": "25cadb1a",
   "metadata": {},
   "source": [
    "### Load the dataset."
   ]
  },
  {
   "cell_type": "code",
   "execution_count": null,
   "id": "de04ef51",
   "metadata": {},
   "outputs": [],
   "source": [
    "df = pd.read_csv(\"income_data.csv\")"
   ]
  },
  {
   "cell_type": "markdown",
   "id": "14c10110",
   "metadata": {},
   "source": [
    "### Inspect the first few rows."
   ]
  },
  {
   "cell_type": "code",
   "execution_count": null,
   "id": "c9bcab97",
   "metadata": {},
   "outputs": [],
   "source": [
    "# Display the first 5 rows\n",
    "df.head()"
   ]
  },
  {
   "cell_type": "markdown",
   "id": "954d3f5a",
   "metadata": {},
   "source": [
    "### Check data types and summary statistics."
   ]
  },
  {
   "cell_type": "code",
   "execution_count": null,
   "id": "c7c85ea6",
   "metadata": {},
   "outputs": [],
   "source": [
    "# Data types\n",
    "df.info()"
   ]
  },
  {
   "cell_type": "code",
   "execution_count": null,
   "id": "816a6536",
   "metadata": {},
   "outputs": [],
   "source": [
    "# Shape of the dataset\n",
    "print(f\"Dataset contains {df.shape[0]} rows and {df.shape[1]} columns.\")\n"
   ]
  },
  {
   "cell_type": "code",
   "execution_count": null,
   "id": "24fcd975",
   "metadata": {},
   "outputs": [],
   "source": [
    "# Statistical summary\n",
    "df.describe(include='all')"
   ]
  },
  {
   "cell_type": "markdown",
   "id": "848c9096",
   "metadata": {},
   "source": [
    "### Convert variables to appropriate datatypes."
   ]
  },
  {
   "cell_type": "code",
   "execution_count": null,
   "id": "03090693",
   "metadata": {},
   "outputs": [],
   "source": [
    "# Converting object columns to category for clarity & memory optimization\n",
    "for col in df.select_dtypes(include='object').columns:\n",
    "    df[col] = df[col].astype('category')"
   ]
  },
  {
   "cell_type": "code",
   "execution_count": null,
   "id": "8f42708d",
   "metadata": {},
   "outputs": [],
   "source": [
    "df.dtypes\n"
   ]
  },
  {
   "cell_type": "markdown",
   "id": "dbe46b51",
   "metadata": {},
   "source": [
    "\n",
    "### Drop irrelevant features."
   ]
  },
  {
   "cell_type": "code",
   "execution_count": null,
   "id": "7b9a2e11",
   "metadata": {},
   "outputs": [],
   "source": [
    "# dropping 'fnlwgt'\n",
    "df.drop(['fnlwgt'], axis=1, inplace=True)"
   ]
  },
  {
   "cell_type": "markdown",
   "id": "8fb21737",
   "metadata": {},
   "source": [
    "### Check and handle missing values."
   ]
  },
  {
   "cell_type": "code",
   "execution_count": null,
   "id": "a733ae77",
   "metadata": {},
   "outputs": [],
   "source": [
    "# Check and handle missing values.\n",
    "print(df.isnull().sum())"
   ]
  },
  {
   "cell_type": "code",
   "execution_count": null,
   "id": "082d10f0",
   "metadata": {},
   "outputs": [],
   "source": [
    "\n",
    "# Drop rows with any missing values\n",
    "df.dropna(inplace=True)\n"
   ]
  },
  {
   "cell_type": "code",
   "execution_count": null,
   "id": "c16c6815",
   "metadata": {},
   "outputs": [],
   "source": [
    "# recheck for missing values after dropping\n",
    "print(df.isnull().sum())"
   ]
  },
  {
   "cell_type": "code",
   "execution_count": null,
   "id": "e42b63e7",
   "metadata": {},
   "outputs": [],
   "source": [
    "df.info()"
   ]
  },
  {
   "cell_type": "markdown",
   "id": "f1aea770",
   "metadata": {},
   "source": [
    "## 2. Exploratory Data Analysis (EDA)\n",
    "\n",
    "- Generate at least **5 meaningful insights** using appropriate visualizations."
   ]
  },
  {
   "cell_type": "code",
   "execution_count": null,
   "id": "c0f9d7f1",
   "metadata": {},
   "outputs": [],
   "source": [
    "# Setting style and palette\n",
    "sns.set(style='whitegrid', palette='Set2')"
   ]
  },
  {
   "cell_type": "code",
   "execution_count": null,
   "id": "91ae0a9a",
   "metadata": {},
   "outputs": [],
   "source": [
    " # 1. Distribution of Income Levels checking peoples earnings using count\n",
    "\n",
    "plt.figure(figsize=(6,4))\n",
    "sns.countplot(data=df, x='income', palette='Set2')\n",
    "plt.title('Distribution of Income Levels')\n",
    "plt.xlabel('Income')\n",
    "plt.ylabel('Count')\n",
    "plt.show()"
   ]
  },
  {
   "cell_type": "code",
   "execution_count": null,
   "id": "4fa23b25",
   "metadata": {},
   "outputs": [],
   "source": [
    "# 2. Income by Gender checking between male and female using count\n",
    "\n",
    "plt.figure(figsize=(6,4))\n",
    "sns.countplot(data=df, x='income', hue='sex', palette='Set3')\n",
    "plt.title('Income Distribution by Gender')\n",
    "plt.xlabel('Income')\n",
    "plt.ylabel('Count')\n",
    "plt.legend(title='Sex')\n",
    "plt.show()"
   ]
  },
  {
   "cell_type": "code",
   "execution_count": null,
   "metadata": {},
   "outputs": [],
   "source": [
    "# 3. Education Level vs Income (Top 10 Education Groups)\n",
    "\n",
    "top_edu = df['education'].value_counts().head(10).index.tolist()\n",
    "df_edu = df[df['education'].isin(top_edu)]\n",
    "\n",
    "plt.figure(figsize=(12,6))\n",
    "sns.countplot(data=df_edu, y='education', hue='income', palette='Set1')\n",
    "plt.title('Education Level vs Income')\n",
    "plt.xlabel('Count')\n",
    "plt.ylabel('Education')\n",
    "plt.legend(title='Income')\n",
    "plt.show()"
   ]
  },
  {
   "cell_type": "code",
   "execution_count": null,
   "id": "2eff2875",
   "metadata": {},
   "outputs": [],
   "source": [
    "# 4. Race Distribution by Income\n",
    "\n",
    "plt.figure(figsize=(8,5))\n",
    "sns.countplot(data=df, x='race', hue='income', palette='muted')\n",
    "plt.title('Race Distribution by Income Level')\n",
    "plt.xlabel('Race')\n",
    "plt.ylabel('Count')\n",
    "plt.xticks(rotation=45)\n",
    "plt.legend(title='Income')\n",
    "plt.show()"
   ]
  },
  {
   "cell_type": "code",
   "execution_count": null,
   "id": "55c4e163",
   "metadata": {},
   "outputs": [],
   "source": [
    "# 5. Income by Marital Status\n",
    "\n",
    "plt.figure(figsize=(10,5))\n",
    "sns.countplot(data=df, x='marital-status', hue='income', palette='Set2')\n",
    "plt.title('Marital Status and Income Level')\n",
    "plt.xticks(rotation=45)\n",
    "plt.xlabel('Marital Status')\n",
    "plt.ylabel('Count')\n",
    "plt.legend(title='Income')\n",
    "plt.show()"
   ]
  },
  {
   "cell_type": "code",
   "execution_count": null,
   "id": "779897a8",
   "metadata": {},
   "outputs": [],
   "source": [
    "# Outlier Visualization\n",
    "\n",
    "# Select numerical columns\n",
    "num_cols = ['age', 'education-num', 'capital-gain', 'capital-loss', 'hours-per-week']\n",
    "\n",
    "# Plot boxplots for each\n",
    "plt.figure(figsize=(15, 10))\n",
    "for i, col in enumerate(num_cols):\n",
    "    plt.subplot(2, 3, i + 1)\n",
    "    sns.boxplot(x=df[col], color='skyblue')\n",
    "    plt.title(f'Boxplot of {col}')\n",
    "plt.tight_layout()\n",
    "plt.show()"
   ]
  },
  {
   "cell_type": "code",
   "execution_count": null,
   "id": "1c4358b5",
   "metadata": {},
   "outputs": [],
   "source": [
    "def cap_outliers(df, col):\n",
    "    lower = df[col].quantile(0.01)\n",
    "    upper = df[col].quantile(0.99)\n",
    "    df[col] = np.where(df[col] < lower, lower, df[col])\n",
    "    df[col] = np.where(df[col] > upper, upper, df[col])\n",
    "\n",
    "# Apply capping to relevant columns\n",
    "cols_to_treat = ['capital-gain', 'capital-loss', 'hours-per-week', 'education-num', 'age']\n",
    "for col in cols_to_treat:\n",
    "    cap_outliers(df, col)\n"
   ]
  },
  {
   "cell_type": "code",
   "execution_count": null,
   "id": "71ad4a27",
   "metadata": {},
   "outputs": [],
   "source": [
    "plt.figure(figsize=(15, 10))\n",
    "for i, col in enumerate(cols_to_treat):\n",
    "    plt.subplot(2, 3, i + 1)\n",
    "    sns.boxplot(x=df[col], color='lightgreen')\n",
    "    plt.title(f'Post-Capping: {col}')\n",
    "plt.tight_layout()\n",
    "plt.show()\n"
   ]
  },
  {
   "cell_type": "markdown",
   "id": "65a38101",
   "metadata": {},
   "source": [
    "## 4. Model Development\n",
    "\n",
    "- **Train-test split** the dataset.\n",
    "- Try different machine learning models.\n",
    "- Train and optimize models with hyperparameter tuning.\n",
    "- **Evaluate performance** using:\n",
    "  - Accuracy\n",
    "  - Precision\n",
    "  - Recall\n",
    "  - F1 Score\n",
    "  - ROC-AUC\n",
    "- Plot ROC curve and confusion matrix.\n",
    "- Save the final model."
   ]
  },
  {
   "cell_type": "code",
   "execution_count": null,
   "id": "edf83548",
   "metadata": {},
   "outputs": [],
   "source": [
    "import sys\n",
    "print(sys.executable)\n",
    "\n"
   ]
  },
  {
   "cell_type": "code",
   "execution_count": null,
   "id": "93fd168d",
   "metadata": {},
   "outputs": [],
   "source": [
    "# Train-test split the dataset.\n",
    "\n",
    "\n",
    "#  Features and target\n",
    "X = df.drop('income', axis=1)\n",
    "y = df['income']\n",
    "\n",
    "#  Train-test split\n",
    "X_train, X_test, y_train, y_test = train_test_split(X, y, test_size=0.2, random_state=42)\n",
    "\n",
    "print(\"Training set size:\", X_train.shape)\n",
    "print(\"Test set size:\", X_test.shape)\n"
   ]
  },
  {
   "cell_type": "code",
   "execution_count": null,
   "id": "f7eac7f3",
   "metadata": {},
   "outputs": [],
   "source": [
    "# Combine X_train and X_test first for consistent encoding \n",
    "combined_X = pd.concat([X_train, X_test], axis=0)\n",
    "\n",
    "# One-hot encode categorical variables\n",
    "combined_X_encoded = pd.get_dummies(combined_X, drop_first=True)\n",
    "\n",
    "# Split back into train and test sets\n",
    "X_train_encoded = combined_X_encoded.iloc[:len(X_train), :]\n",
    "X_test_encoded = combined_X_encoded.iloc[len(X_train):, :]\n"
   ]
  },
  {
   "cell_type": "code",
   "execution_count": null,
   "id": "2d6e6258",
   "metadata": {},
   "outputs": [],
   "source": [
    "# Encode target variable\n",
    "df['income'] = df['income'].map({'<=50K': 0, '>50K': 1})\n",
    "\n",
    "# Encode target sets\n",
    "y_train = y_train.map({'<=50K': 0, '>50K': 1})\n",
    "y_test = y_test.map({'<=50K': 0, '>50K': 1})\n"
   ]
  },
  {
   "cell_type": "markdown",
   "id": "644ece8c",
   "metadata": {},
   "source": [
    "- Try different machine learning models.\n",
    "- Train and optimize models with hyperparameter tuning.\n",
    "- **Evaluate performance** using:\n",
    "  - Accuracy\n",
    "  - Precision\n",
    "  - Recall\n",
    "  - F1 Score\n",
    "  - ROC-AUC\n",
    "- Plot ROC curve and confusion matrix."
   ]
  },
  {
   "cell_type": "markdown",
   "id": "a70ce903",
   "metadata": {},
   "source": [
    "### LOGISTIC REGRESSION MODEL"
   ]
  },
  {
   "cell_type": "code",
   "execution_count": null,
   "id": "f5027ee0",
   "metadata": {},
   "outputs": [],
   "source": [
    "# LOGISTIC REGRESSION MODEL\n",
    "\n",
    "# Initialize the model\n",
    "log_model = LogisticRegression(max_iter=1000)\n",
    "\n",
    "# Train the model\n",
    "log_model.fit(X_train_encoded, y_train)\n",
    "\n",
    "# Predict on the test set\n",
    "y_pred_log = log_model.predict(X_test_encoded)\n",
    "y_proba_log = log_model.predict_proba(X_test_encoded)[:, 1]\n"
   ]
  },
  {
   "cell_type": "markdown",
   "id": "6fb8699f",
   "metadata": {},
   "source": [
    "### Logistic regression evaluation and visualisation"
   ]
  },
  {
   "cell_type": "code",
   "execution_count": null,
   "id": "b95e1b9b",
   "metadata": {},
   "outputs": [],
   "source": [
    "# Logistic regression evaluation and visualisation\n",
    "# Accuracy\n",
    "print(\"Accuracy:\", accuracy_score(y_test, y_pred_log))\n",
    "\n",
    "# Classification report\n",
    "print(\"\\nClassification Report:\\n\", classification_report(y_test, y_pred_log))\n",
    "\n",
    "# Confusion matrix\n",
    "cm = confusion_matrix(y_test, y_pred_log)\n",
    "plt.figure(figsize=(6,4))\n",
    "sns.heatmap(cm, annot=True, fmt='d', cmap='Blues')\n",
    "plt.title(\"Confusion Matrix\")\n",
    "plt.xlabel(\"Predicted\")\n",
    "plt.ylabel(\"Actual\")\n",
    "plt.show()\n",
    "\n",
    "# ROC Curve\n",
    "fpr, tpr, thresholds = roc_curve(y_test, y_proba_log)\n",
    "plt.figure(figsize=(6,4))\n",
    "plt.plot(fpr, tpr, label=f'Logistic Regression (AUC = {roc_auc_score(y_test, y_proba_log):.2f})')\n",
    "plt.plot([0, 1], [0, 1], 'k--')  # Diagonal line\n",
    "plt.xlabel(\"False Positive Rate\")\n",
    "plt.ylabel(\"True Positive Rate\")\n",
    "plt.title(\"ROC Curve\")\n",
    "plt.legend()\n",
    "plt.show()"
   ]
  },
  {
   "cell_type": "markdown",
   "id": "2486d3e6",
   "metadata": {},
   "source": [
    "### Support Vector Machine (SVM) Model"
   ]
  },
  {
   "cell_type": "code",
   "execution_count": null,
   "id": "ba2d012b",
   "metadata": {},
   "outputs": [],
   "source": [
    "\n",
    "from sklearn.svm import SVC\n",
    "\n",
    "# Sample down for faster training\n",
    "X_small = X_train_encoded.sample(n=5000, random_state=42)\n",
    "y_small = y_train.loc[X_small.index]\n",
    "\n",
    "svm_model = SVC(probability=True, random_state=42)\n",
    "svm_model.fit(X_small, y_small)\n",
    "\n",
    "# Predict\n",
    "y_pred_svm = svm_model.predict(X_test_encoded)\n",
    "y_proba_svm = svm_model.predict_proba(X_test_encoded)[:, 1]\n"
   ]
  },
  {
   "cell_type": "code",
   "execution_count": null,
   "id": "306e46c7",
   "metadata": {},
   "outputs": [],
   "source": [
    "# For Accuracy\n",
    "accuracy = accuracy_score(y_test, y_pred_svm)\n",
    "print(f\" SVM Accuracy: {accuracy:.4f}\")\n",
    "\n",
    "# For Classification Report\n",
    "print(\"\\n Classification Report:\")\n",
    "print(classification_report(y_test, y_pred_svm))\n",
    "\n",
    "# For Confusion Matrix\n",
    "print(\" Confusion Matrix:\")\n",
    "cm = confusion_matrix(y_test, y_pred_svm)\n",
    "print(cm)\n",
    "\n",
    "# Displaying the Confusion Matrix as Heatmap\n",
    "\n",
    "\n",
    "plt.figure(figsize=(6, 4))\n",
    "sns.heatmap(cm, annot=True, fmt='d', cmap='Blues', xticklabels=[\"<=50K\", \">50K\"], yticklabels=[\"<=50K\", \">50K\"])\n",
    "plt.xlabel(\"Predicted Label\")\n",
    "plt.ylabel(\"True Label\")\n",
    "plt.title(\"SVM Confusion Matrix\")\n",
    "plt.tight_layout()\n",
    "plt.show()\n",
    "\n",
    "# For ROC-AUC Score\n",
    "auc = roc_auc_score(y_test, y_proba_svm)\n",
    "print(f\"\\n ROC-AUC Score: {auc:.4f}\")\n"
   ]
  },
  {
   "cell_type": "markdown",
   "id": "f09ff654",
   "metadata": {},
   "source": [
    "### Random Forest Classifier MODEL"
   ]
  },
  {
   "cell_type": "code",
   "execution_count": null,
   "id": "e98443a5",
   "metadata": {},
   "outputs": [],
   "source": [
    "# Initialize and train\n",
    "rf_model = RandomForestClassifier(random_state=42)\n",
    "rf_model.fit(X_train_encoded, y_train)\n",
    "\n",
    "# Predict and evaluate\n",
    "y_pred_rf = rf_model.predict(X_test_encoded)\n",
    "y_proba_rf = rf_model.predict_proba(X_test_encoded)[:, 1]\n",
    "\n"
   ]
  },
  {
   "cell_type": "markdown",
   "id": "c84a8bb8",
   "metadata": {},
   "source": [
    "### Random Forest Evaluations and Visualisation"
   ]
  },
  {
   "cell_type": "code",
   "execution_count": null,
   "id": "d499f341",
   "metadata": {},
   "outputs": [],
   "source": [
    "# For Accuracy\n",
    "print(f\"\\n Random Forest Accuracy: {accuracy_score(y_test, y_pred_rf):.4f}\")\n",
    "\n",
    "# For Classification Report\n",
    "print(\"\\n Classification Report:\")\n",
    "print(classification_report(y_test, y_pred_rf))\n",
    "\n",
    "# For Confusion Matrix\n",
    "print(\" Confusion Matrix:\")\n",
    "cm_rf = confusion_matrix(y_test, y_pred_rf)\n",
    "print(cm_rf)\n",
    "\n",
    "# Heatmap for better visualization\n",
    "plt.figure(figsize=(6, 4))\n",
    "sns.heatmap(cm_rf, annot=True, fmt='d', cmap='Greens',\n",
    "            xticklabels=[\"<=50K\", \">50K\"], yticklabels=[\"<=50K\", \">50K\"])\n",
    "plt.xlabel(\"Predicted Label\")\n",
    "plt.ylabel(\"True Label\")\n",
    "plt.title(\"Random Forest Confusion Matrix\")\n",
    "plt.tight_layout()\n",
    "plt.show()\n",
    "\n",
    "# For the ROC-AUC Score\n",
    "auc_rf = roc_auc_score(y_test, y_proba_rf)\n",
    "print(f\"\\n ROC-AUC Score: {auc_rf:.4f}\")\n"
   ]
  },
  {
   "cell_type": "markdown",
   "id": "199804be",
   "metadata": {},
   "source": [
    "### KNN Model"
   ]
  },
  {
   "cell_type": "code",
   "execution_count": null,
   "id": "c80d614d",
   "metadata": {},
   "outputs": [],
   "source": [
    "# KNN Model\n",
    "\n",
    "# Initialize and train\n",
    "knn_model = KNeighborsClassifier()\n",
    "knn_model.fit(X_train_encoded, y_train)\n",
    "\n",
    "# Predict and evaluate\n",
    "y_pred_knn = knn_model.predict(X_test_encoded)\n",
    "y_proba_knn = knn_model.predict_proba(X_test_encoded)[:, 1]"
   ]
  },
  {
   "cell_type": "markdown",
   "id": "b4a6d317",
   "metadata": {},
   "source": [
    "\n",
    "### KNN Evaluation And visualisation"
   ]
  },
  {
   "cell_type": "code",
   "execution_count": null,
   "id": "82234220",
   "metadata": {},
   "outputs": [],
   "source": [
    "\n",
    "# KNN Evaluation And visualisation\n",
    "\n",
    "# For Accuracy\n",
    "print(f\"\\n KNN Accuracy: {accuracy_score(y_test, y_pred_knn):.4f}\")\n",
    "\n",
    "# For Classification Report\n",
    "print(\"\\n Classification Report:\")\n",
    "print(classification_report(y_test, y_pred_knn))\n",
    "\n",
    "# For Confusion Matrix\n",
    "cm_knn = confusion_matrix(y_test, y_pred_knn)\n",
    "print(\" Confusion Matrix:\")\n",
    "print(cm_knn)\n",
    "\n",
    "# Heatmap for Confusion Matrix\n",
    "plt.figure(figsize=(6, 4))\n",
    "sns.heatmap(cm_knn, annot=True, fmt='d', cmap='Purples',\n",
    "            xticklabels=[\"<=50K\", \">50K\"], yticklabels=[\"<=50K\", \">50K\"])\n",
    "plt.xlabel(\"Predicted Label\")\n",
    "plt.ylabel(\"True Label\")\n",
    "plt.title(\"KNN Confusion Matrix\")\n",
    "plt.tight_layout()\n",
    "plt.show()\n",
    "\n",
    "# For the ROC-AUC Score\n",
    "auc_knn = roc_auc_score(y_test, y_proba_knn)\n",
    "print(f\"\\n ROC-AUC Score: {auc_knn:.4f}\")\n"
   ]
  },
  {
   "cell_type": "markdown",
   "id": "16f8351b",
   "metadata": {},
   "source": [
    "### Model Comparison"
   ]
  },
  {
   "cell_type": "code",
   "execution_count": null,
   "id": "dfb2314c",
   "metadata": {},
   "outputs": [],
   "source": [
    "# Dictionary of models and their predictions\n",
    "models_results = {\n",
    "    'Logistic Regression': (y_pred_log, y_proba_log),\n",
    "    'SVM': (y_pred_svm, y_proba_svm),\n",
    "    'Random Forest': (y_pred_rf, y_proba_rf),\n",
    "    'KNN': (y_pred_knn, y_proba_knn)\n",
    "}\n",
    "\n",
    "# Create a DataFrame to store results\n",
    "comparison_df = pd.DataFrame(columns=['Model', 'Accuracy', 'Precision', 'Recall', 'F1-Score', 'ROC AUC'])\n",
    "\n",
    "# Loop through each model and compute metrics\n",
    "for model_name, (y_pred, y_proba) in models_results.items():\n",
    "    accuracy = accuracy_score(y_test, y_pred)\n",
    "    precision = precision_score(y_test, y_pred)\n",
    "    recall = recall_score(y_test, y_pred)\n",
    "    f1 = f1_score(y_test, y_pred)\n",
    "    roc_auc = roc_auc_score(y_test, y_proba)\n",
    "\n",
    "    # Append results to DataFrame\n",
    "    comparison_df = pd.concat([\n",
    "        comparison_df,\n",
    "        pd.DataFrame([{\n",
    "            'Model': model_name,\n",
    "            'Accuracy': accuracy,\n",
    "            'Precision': precision,\n",
    "            'Recall': recall,\n",
    "            'F1-Score': f1,\n",
    "            'ROC AUC': roc_auc\n",
    "        }])\n",
    "    ], ignore_index=True)\n",
    "\n",
    "# Display comparison sorted by ROC AUC\n",
    "comparison_df = comparison_df.sort_values(by='ROC AUC', ascending=False).reset_index(drop=True)\n",
    "print(comparison_df)\n"
   ]
  },
  {
   "cell_type": "markdown",
   "id": "52b85257",
   "metadata": {},
   "source": [
    "#### Visual Comparison"
   ]
  },
  {
   "cell_type": "code",
   "execution_count": 36,
   "id": "7538f01e",
   "metadata": {},
   "outputs": [
    {
     "data": {
      "image/png": "[encoded data removed]",
      "text/plain": [
       "<Figure size 1000x500 with 1 Axes>"
      ]
     },
     "metadata": {},
     "output_type": "display_data"
    }
   ],
   "source": [
    "# Visual Comparison\n",
    "\n",
    "# Bar plot of ROC AUC for visual comparison\n",
    "plt.figure(figsize=(10, 5))\n",
    "sns.barplot(x='Model', y='ROC AUC', data=comparison_df.sort_values(by='ROC AUC', ascending=False), palette='viridis')\n",
    "plt.title('Model Comparison (ROC AUC Score)')\n",
    "plt.ylabel('ROC AUC')\n",
    "plt.ylim(0, 1)\n",
    "plt.grid(True)\n",
    "plt.tight_layout()\n",
    "plt.show()\n"
   ]
  },
  {
   "cell_type": "markdown",
   "id": "25b93f31",
   "metadata": {},
   "source": [
    "### hyperparameter tuning for the top 3 models\n",
    "- Logistic Regression\n",
    "\n",
    "- Random Forest\n",
    "\n",
    "- K-Nearest Neighbors (KNN)\n",
    "\n",
    "I am skipping SVM (since it performed poorly and takes long to train).\n",
    "\n"
   ]
  },
  {
   "cell_type": "code",
   "execution_count": null,
   "id": "33d6f2d5",
   "metadata": {},
   "outputs": [
    {
     "name": "stdout",
     "output_type": "stream",
     "text": [
      " Best Logistic Regression Parameters: {'solver': 'lbfgs', 'penalty': 'l2', 'C': 100}\n"
     ]
    }
   ],
   "source": [
    "# Hyperparameter Tuning for Logistic Regression using RandomizedSearchCV\n",
    "\n",
    "log_params = {\n",
    "    'C': [0.001, 0.01, 0.1, 1, 10, 100],\n",
    "    'solver': ['liblinear', 'lbfgs'],\n",
    "    'penalty': ['l2']\n",
    "}\n",
    "\n",
    "log_random = RandomizedSearchCV(\n",
    "    LogisticRegression(max_iter=1000),\n",
    "    param_distributions=log_params,\n",
    "    n_iter=10,\n",
    "    scoring='f1',\n",
    "    cv=5,\n",
    "    random_state=42,\n",
    "    n_jobs=-1\n",
    ")\n",
    "\n",
    "log_random.fit(X_train_encoded, y_train)\n",
    "best_log_model = log_random.best_estimator_\n",
    "\n",
    "print(\" Best Logistic Regression Parameters:\", log_random.best_params_)\n"
   ]
  },
  {
   "cell_type": "code",
   "execution_count": 38,
   "id": "619aec1e",
   "metadata": {},
   "outputs": [
    {
     "name": "stdout",
     "output_type": "stream",
     "text": [
      "Best Logistic Regression Params: {'C': 1, 'solver': 'liblinear'}\n"
     ]
    }
   ],
   "source": [
    "# for logistic regression\n",
    "from sklearn.model_selection import GridSearchCV\n",
    "\n",
    "\n",
    "# Hyperparameter grid\n",
    "log_params = {\n",
    "    'C': [0.01, 0.1, 1, 10],\n",
    "    'solver': ['liblinear', 'lbfgs']\n",
    "}\n",
    "\n",
    "# Grid Search\n",
    "log_grid = GridSearchCV(LogisticRegression(max_iter=1000), log_params, cv=5, scoring='f1', n_jobs=-1)\n",
    "log_grid.fit(X_train_encoded, y_train)\n",
    "\n",
    "# Best model\n",
    "best_log_model = log_grid.best_estimator_\n",
    "print(\"Best Logistic Regression Params:\", log_grid.best_params_)\n"
   ]
  },
  {
   "cell_type": "code",
   "execution_count": null,
   "id": "c66a6a3e",
   "metadata": {},
   "outputs": [
    {
     "name": "stdout",
     "output_type": "stream",
     "text": [
      "🔧 Best Random Forest Parameters: {'n_estimators': 200, 'min_samples_split': 2, 'min_samples_leaf': 2, 'max_depth': None, 'bootstrap': False}\n"
     ]
    }
   ],
   "source": [
    "# fOR Random Forest \n",
    "\n",
    "rf_params = {\n",
    "    'n_estimators': [100, 200, 300, 400],\n",
    "    'max_depth': [None, 10, 20, 30],\n",
    "    'min_samples_split': [2, 5, 10],\n",
    "    'min_samples_leaf': [1, 2, 4],\n",
    "    'bootstrap': [True, False]\n",
    "}\n",
    "\n",
    "rf_random = RandomizedSearchCV(\n",
    "    RandomForestClassifier(random_state=42),\n",
    "    param_distributions=rf_params,\n",
    "    n_iter=20,\n",
    "    scoring='f1',\n",
    "    cv=3,\n",
    "    random_state=42,\n",
    "    n_jobs=-1\n",
    ")\n",
    "\n",
    "rf_random.fit(X_train_encoded, y_train)\n",
    "best_rf_model = rf_random.best_estimator_\n",
    "\n",
    "print(\" Best Random Forest Parameters:\", rf_random.best_params_)\n"
   ]
  },
  {
   "cell_type": "code",
   "execution_count": null,
   "id": "6fd0b3a9",
   "metadata": {},
   "outputs": [],
   "source": [
    "# fOR KNN \n",
    "\n",
    "knn_params = {\n",
    "    'n_neighbors': [3, 5, 7, 9, 11],\n",
    "    'weights': ['uniform', 'distance'],\n",
    "    'p': [1, 2]  # 1 = Manhattan, 2 = Euclidean\n",
    "}\n",
    "\n",
    "knn_random = RandomizedSearchCV(\n",
    "    KNeighborsClassifier(),\n",
    "    param_distributions=knn_params,\n",
    "    n_iter=10,\n",
    "    scoring='f1',\n",
    "    cv=3,\n",
    "    random_state=42,\n",
    "    n_jobs=-1\n",
    ")\n",
    "\n",
    "knn_random.fit(X_train_encoded, y_train)\n",
    "best_knn_model = knn_random.best_estimator_\n",
    "\n",
    "print(\" Best KNN Parameters:\", knn_random.best_params_)\n"
   ]
  },
  {
   "cell_type": "markdown",
   "id": "84ba38a1",
   "metadata": {},
   "source": [
    "- Save the final model."
   ]
  },
  {
   "cell_type": "code",
   "execution_count": 38,
   "id": "7bf9ecad",
   "metadata": {},
   "outputs": [
    {
     "name": "stdout",
     "output_type": "stream",
     "text": [
      "✅ Model saved as 'logistic_income_model.pkl'\n"
     ]
    }
   ],
   "source": [
    "# Save the trained logistic regression model\n",
    "joblib.dump(log_model, 'logistic_income_model.pkl')\n",
    "print(\"✅ Model saved as 'logistic_income_model.pkl'\")\n"
   ]
  },
  {
   "cell_type": "code",
   "execution_count": 39,
   "id": "d234e471",
   "metadata": {},
   "outputs": [],
   "source": [
    "# Loading the model\n",
    "loaded_model = joblib.load('logistic_income_model.pkl')\n",
    "\n",
    "# testing the predict\n",
    "loaded_predictions = loaded_model.predict(X_test_encoded)\n"
   ]
  },
  {
   "cell_type": "markdown",
   "id": "55361e6f",
   "metadata": {},
   "source": [
    "## 5. Summary and Recommendations\n",
    "\n",
    "- Summarize key EDA insights.\n",
    "- Evaluate model performance.\n",
    "- Suggest improvements for future work.\n"
   ]
  },
  {
   "cell_type": "markdown",
   "id": "23b95d31",
   "metadata": {},
   "source": [
    "## Summary of EDA Insights\n",
    "\n",
    "1. **Income Distribution:**  \n",
    "   Most people in the dataset earn $50K or less, showing a strong imbalance. This imbalance can affect how well models perform and should be handled during training.\n",
    "\n",
    "2. **Gender and Income:**  \n",
    "   Males are more likely to earn above $50K compared to females. There is a clear income gap between genders, especially among high earners.\n",
    "\n",
    "3. **Education and Income:**  \n",
    "   People with higher education (Bachelor’s, Master’s, etc.) are more likely to earn over $50K. Lower education levels are strongly linked to lower income.\n",
    "\n",
    "4. **Race and Income:**  \n",
    "   White and Asian-Pac-Islander individuals have a higher chance of earning above $50K. Other racial groups are mostly found in the lower income range.\n",
    "\n",
    "5. **Marital Status and Income:**  \n",
    "   Married individuals (especially civil spouses) are more likely to earn higher incomes. Never-married and divorced individuals mostly earn $50K or less.\n"
   ]
  },
  {
   "cell_type": "markdown",
   "id": "94584cfa",
   "metadata": {},
   "source": [
    "## Model Evaluation\n",
    "\n",
    "\n",
    "Four different machine learning models were trained and evaluated to predict whether an individual earns more than $50K per year. The performance was assessed using accuracy, precision, recall, F1-score, and ROC-AUC score.\n",
    "\n",
    "---\n",
    "### Evaluate model performance\n",
    "\n",
    "#### 1. **Logistic Regression**\n",
    "- **Accuracy:** High  \n",
    "- **ROC-AUC:** 0.898 (**highest among all models**)  \n",
    "- **Precision, Recall, F1-Score:** Balanced and strong  \n",
    "- **Strengths:** Performs well on linearly separable data and provides interpretable results  \n",
    "- **Conclusion:** Logistic Regression was the best-performing model overall.\n",
    "\n",
    "#### 2. **Random Forest**\n",
    "- **Accuracy & ROC-AUC:** Very good, slightly lower than Logistic Regression  \n",
    "- **Strengths:** Handles non-linear relationships and feature interactions well  \n",
    "- **Conclusion:** A powerful model, but less interpretable and slightly less performant in this context.\n",
    "\n",
    "#### 3. **K-Nearest Neighbors (KNN)**\n",
    "- **Accuracy & ROC-AUC:** Acceptable, but lower than Logistic Regression and Random Forest  \n",
    "- **Limitation:** Sensitive to feature scaling, less interpretable  \n",
    "- **Conclusion:** Performed moderately well, but not the best for large-scale or imbalanced data.\n",
    "\n",
    "#### 4. **Support Vector Machine (SVM)**\n",
    "- **Accuracy & ROC-AUC:** Lowest among all models  \n",
    "- **Training Time:** Significantly slow on large data  \n",
    "- **Conclusion:** Less efficient and effective in this case.\n",
    "\n",
    "---\n",
    "\n"
   ]
  },
  {
   "cell_type": "markdown",
   "id": "6c861360",
   "metadata": {},
   "source": [
    "## Future Work and Improvements\n",
    "\n",
    "To enhance the performance and reliability of the income prediction model, the following improvements are recommended:\n",
    "\n",
    "- **Handle Class Imbalance:** Address the skewed class distribution using techniques such as SMOTE, random oversampling, or class weighting to boost performance on the minority class.\n",
    "\n",
    "- **Advanced Feature Engineering:** Create or combine features (e.g., age groups, work hour categories) to help the model uncover deeper patterns.\n",
    "\n",
    "- **Model Optimization:** Apply more comprehensive hyperparameter tuning methods like Bayesian optimization to further enhance model performance.\n",
    "\n",
    "- **Explore Additional Models:** Test other robust algorithms such as XGBoost, LightGBM, or neural networks for potential performance gains.\n",
    "\n",
    "- **Cross-Validation:** Use k-fold cross-validation to ensure a more stable and generalized model evaluation.\n",
    "\n",
    "- **Model Interpretability:** Utilize tools like SHAP or LIME to gain insight into feature importance and model decisions.\n",
    "\n",
    "- **Use Updated Data:** Consider integrating larger or more recent datasets for improved generalizability.\n",
    "\n",
    "- **Automate the Pipeline:** Build a modular and reusable pipeline for preprocessing, training, and evaluation to streamline future development.\n",
    "\n",
    "- **Model Deployment:** Package the final model as an API or integrate into a simple web application for practical, real-world use.\n"
   ]
  }
 ],
 "metadata": {
  "kernelspec": {
   "display_name": "Python 3",
   "language": "python",
   "name": "python3"
  },
  "language_info": {
   "codemirror_mode": {
    "name": "ipython",
    "version": 3
   },
   "file_extension": ".py",
   "mimetype": "text/x-python",
   "name": "python",
   "nbconvert_exporter": "python",
   "pygments_lexer": "ipython3",
   "version": "3.11.9"
  }
 },
 "nbformat": 4,
 "nbformat_minor": 5
}
